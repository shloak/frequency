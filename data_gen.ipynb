{
 "cells": [
  {
   "cell_type": "code",
   "execution_count": 1,
   "metadata": {},
   "outputs": [
    {
     "data": {
      "text/plain": [
       "'\\ny[n] = exp(-i 2*pi*n*k/N) + w[n]\\nw[n] = a[n] + ib[n]\\nSNR = (1/(s^2))\\nSNRdB = 10*log10(SNR). \\n'"
      ]
     },
     "execution_count": 1,
     "metadata": {},
     "output_type": "execute_result"
    }
   ],
   "source": [
    "import numpy as np\n",
    "import matplotlib.pyplot as plt\n",
    "import tensorflow as tf\n",
    "\n",
    "'''\n",
    "y[n] = exp(-i 2*pi*n*k/N) + w[n]\n",
    "w[n] = a[n] + ib[n]\n",
    "SNR = (1/(s^2))\n",
    "SNRdB = 10*log10(SNR). \n",
    "'''\n"
   ]
  },
  {
   "cell_type": "code",
   "execution_count": 2,
   "metadata": {
    "collapsed": true
   },
   "outputs": [],
   "source": [
    "def pure_signal(N, k):\n",
    "    return [np.exp(-1j * 2 * np.pi * k * n / N) for n in range(N)]\n",
    "\n",
    "def noisy_signal(N, k, SNRdB):\n",
    "    signal = pure_signal(N, k)\n",
    "    s = np.sqrt(1 / (10 ** (SNRdB / 10)))\n",
    "    a = np.random.randn(N) * s / np.sqrt(2)\n",
    "    b = np.random.randn(N)* s / np.sqrt(2)\n",
    "    noise = a + 1j*b\n",
    "    return signal + noise\n",
    "\n",
    "# returns tuple of m samples of noisy signals and chosen sampling indices\n",
    "def subsampled_noisy(N, k, SNRdB, m):\n",
    "    noisy_sig = noisy_signal(N, k, SNRdB)\n",
    "    chosen_indices = np.sort(np.random.choice(range(N), size=m, replace=False))\n",
    "    return (np.take(noisy_sig, chosen_indices), chosen_indices)\n",
    "\n",
    "def imag_to_pair(signal):\n",
    "    ret = []\n",
    "    for i in signal:\n",
    "        ret.append(np.round(np.real(i), 3))\n",
    "        ret.append(np.round(np.imag(i), 3))\n",
    "    return ret\n",
    "\n",
    "def one_hot(N, batch_size, freqs):\n",
    "    freqs_one_hot = np.zeros((batch_size, N))\n",
    "    freqs_one_hot[np.arange(batch_size), freqs] = 1\n",
    "    return freqs_one_hot\n",
    "\n",
    "def batch_pure(N, batch_size):\n",
    "    signals, freqs = [], []\n",
    "    for i in range(batch_size):\n",
    "        freq = np.random.randint(0, N)\n",
    "        signal = pure_signal(N, freq)\n",
    "        signals.append(imag_to_pair(signal))\n",
    "        freqs.append(freq)\n",
    "    return signals, one_hot(N, batch_size, freqs)\n",
    "\n",
    "def batch_noisy(N, SNRdB, batch_size):\n",
    "    signals, freqs = [], []\n",
    "    for i in range(batch_size):\n",
    "        freq = np.random.randint(0, N)\n",
    "        signal = noisy_signal(N, freq, SNRdB)\n",
    "        signals.append(imag_to_pair(signal))\n",
    "        freqs.append(freq)\n",
    "    return signals, one_hot(N, batch_size, freqs)\n",
    "        \n",
    "def batch_noisy_subsampled(N, SNRdB, m, batch_size):\n",
    "    signals, freqs, indices = [], [], []\n",
    "    for i in range(batch_size):\n",
    "        freq = np.random.randint(0, N)\n",
    "        signal, index = subsampled_noisy(N, freq, SNRdB, m)\n",
    "        signals.append(imag_to_pair(signal))\n",
    "        freqs.append(freq)\n",
    "        indices.append(index)\n",
    "    return signals, one_hot(N, batch_size, freqs), indices\n",
    "\n",
    "def batch_noisy_subsampled(N, SNRdB, m, batch_size, indices):\n",
    "    signals, freqs, repeated_ind = [], [], []\n",
    "    for i in range(batch_size):\n",
    "        freq = np.random.randint(0, N)\n",
    "        signal = noisy_signal(N, freq, SNRdB)\n",
    "        sub_signal = np.take(signal, indices)\n",
    "        signals.append(imag_to_pair(sub_signal))\n",
    "        freqs.append(freq)\n",
    "        repeated_ind.append(indices)\n",
    "    return signals, one_hot(N, batch_size, freqs), repeated_ind\n",
    "\n",
    "def test_noisy_mle(N, signals, freqs):\n",
    "    count = 0\n",
    "    imag_signals = []    \n",
    "    for index in range(len(signals)):\n",
    "        sig = signals[index]\n",
    "        imag_sig = [(sig[i] + 1j*sig[i+1]) for i in np.arange(len(sig), step=2)]\n",
    "        imag_signals.append(imag_sig)\n",
    "                     \n",
    "    for index in range(len(signals)):\n",
    "        cleans = [pure_signal(N, i) for i in range(N)]\n",
    "        dots = [np.absolute(np.vdot(imag_signals[index], cleans[i])) for i in range(N)]\n",
    "        if np.argmax(freqs[index]) == np.argmax(dots):\n",
    "            count += 1\n",
    "    return count / len(freqs)\n",
    "\n",
    "def test_noisy_subsampled_mle(N, signals, freqs, indices):\n",
    "    count = 0\n",
    "    imag_signals = []    \n",
    "    for index in range(len(signals)):\n",
    "        sig = signals[index]\n",
    "        imag_sig = [(sig[i] + 1j*sig[i+1]) for i in np.arange(len(sig), step=2)]\n",
    "        imag_signals.append(imag_sig)\n",
    "                     \n",
    "    for index in range(len(signals)):\n",
    "        cleans = [np.take(pure_signal(N, i), indices[index]) for i in range(N)]\n",
    "        dots = [np.absolute(np.vdot(imag_signals[index], cleans[i])) for i in range(N)]\n",
    "        if np.argmax(freqs[index]) == np.argmax(dots):\n",
    "            count += 1\n",
    "    return count / len(freqs)\n",
    "\n"
   ]
  },
  {
   "cell_type": "code",
   "execution_count": 3,
   "metadata": {},
   "outputs": [
    {
     "data": {
      "text/plain": [
       "'test_signals, test_freqs, test_ind = batch_noisy_subsampled(100, 0, 10, 100)\\nprint(test_noisy_subsampled_mle(100, test_signals, test_freqs, test_ind))'"
      ]
     },
     "execution_count": 3,
     "metadata": {},
     "output_type": "execute_result"
    }
   ],
   "source": [
    "'''test_signals, test_freqs, test_ind = batch_noisy_subsampled(100, 0, 10, 100)\n",
    "print(test_noisy_subsampled_mle(100, test_signals, test_freqs, test_ind))'''"
   ]
  },
  {
   "cell_type": "code",
   "execution_count": 4,
   "metadata": {},
   "outputs": [
    {
     "data": {
      "text/plain": [
       "'N = 10\\nm = 5\\n\\nchosen_indices = np.random.choice(range(N), size=m, replace=False)\\nsig = [0, 1, 2, 3, 4, 5, 6, 7, 8, 9, 10]\\nind = [0, 5, 2, 7]\\nnp.take(sig, np.sort(ind))\\na = subsampled_noisy(8, 1, 10, 4)\\nnp.real(a[1])\\nsig, freq = batch_noisy_subsampled(4, 3, 1, 2)\\nprint(sig)\\nprint(freq)\\n'"
      ]
     },
     "execution_count": 4,
     "metadata": {},
     "output_type": "execute_result"
    }
   ],
   "source": [
    "'''N = 10\n",
    "m = 5\n",
    "\n",
    "chosen_indices = np.random.choice(range(N), size=m, replace=False)\n",
    "sig = [0, 1, 2, 3, 4, 5, 6, 7, 8, 9, 10]\n",
    "ind = [0, 5, 2, 7]\n",
    "np.take(sig, np.sort(ind))\n",
    "a = subsampled_noisy(8, 1, 10, 4)\n",
    "np.real(a[1])\n",
    "sig, freq = batch_noisy_subsampled(4, 3, 1, 2)\n",
    "print(sig)\n",
    "print(freq)\n",
    "'''\n"
   ]
  },
  {
   "cell_type": "code",
   "execution_count": 5,
   "metadata": {},
   "outputs": [
    {
     "data": {
      "text/plain": [
       "'snr = -10\\nN = 512\\nm = 50\\nnum_trials = 1000\\ncount = 0\\nfor ind in range(num_trials):\\n    k = np.random.randint(0, N)\\n    noisy, indices = subsampled_noisy(N, k, snr, m)\\n    cleans = [np.take(pure_signal(N, i), indices) for i in range(N)]\\n    dots = [np.absolute(np.vdot(cleans[i], noisy)) for i in range(N)] \\n    if k == np.argmax(dots):\\n        count += 1\\nprint(count / num_trials)\\n'"
      ]
     },
     "execution_count": 5,
     "metadata": {},
     "output_type": "execute_result"
    }
   ],
   "source": [
    "'''snr = -10\n",
    "N = 512\n",
    "m = 50\n",
    "num_trials = 1000\n",
    "count = 0\n",
    "for ind in range(num_trials):\n",
    "    k = np.random.randint(0, N)\n",
    "    noisy, indices = subsampled_noisy(N, k, snr, m)\n",
    "    cleans = [np.take(pure_signal(N, i), indices) for i in range(N)]\n",
    "    dots = [np.absolute(np.vdot(cleans[i], noisy)) for i in range(N)] \n",
    "    if k == np.argmax(dots):\n",
    "        count += 1\n",
    "print(count / num_trials)\n",
    "'''"
   ]
  },
  {
   "cell_type": "code",
   "execution_count": 40,
   "metadata": {},
   "outputs": [],
   "source": [
    "N = 512\n",
    "SNRdB = 0\n",
    "m = 64\n",
    "\n",
    "# Parameters\n",
    "learning_rate = 0.01\n",
    "num_iter = 1000\n",
    "batch_size = 64\n",
    "\n",
    "# Network Parameters\n",
    "n_hidden_1 = 128#256 \n",
    "n_hidden_2 = 64#256 \n",
    "n_hidden_3 = 128#256\n",
    "num_input = m * 2 #512 \n",
    "num_classes = N\n",
    "\n",
    "# tf Graph input\n",
    "X = tf.placeholder(\"float\", [None, num_input])\n",
    "Y = tf.placeholder(\"float\", [None, num_classes])\n",
    "\n",
    "# Store layers weight & bias\n",
    "weights = {\n",
    "    'h1': tf.Variable(tf.random_normal([num_input, n_hidden_1])),\n",
    "    'h2': tf.Variable(tf.random_normal([n_hidden_1, n_hidden_2])),\n",
    "    'h3': tf.Variable(tf.random_normal([n_hidden_2, n_hidden_3])),\n",
    "    'out': tf.Variable(tf.random_normal([n_hidden_3, num_classes]))\n",
    "}\n",
    "biases = {\n",
    "    'b1': tf.Variable(tf.random_normal([n_hidden_1])),\n",
    "    'b2': tf.Variable(tf.random_normal([n_hidden_2])),\n",
    "    'b3': tf.Variable(tf.random_normal([n_hidden_3])),\n",
    "    'out': tf.Variable(tf.random_normal([num_classes]))\n",
    "}\n",
    "\n",
    "indices = np.sort(np.random.choice(range(N), size=m, replace=False))\n",
    "\n",
    "test_signals, test_freqs, test_indices = batch_noisy_subsampled(N, SNRdB, m, batch_size, indices)"
   ]
  },
  {
   "cell_type": "code",
   "execution_count": 41,
   "metadata": {
    "collapsed": true
   },
   "outputs": [],
   "source": [
    "def neural_net(x):\n",
    "    layer_1 = tf.add(tf.matmul(x, weights['h1']), biases['b1'])\n",
    "    layer_2 = tf.add(tf.matmul(layer_1, weights['h2']), biases['b2'])\n",
    "    layer_3 = tf.add(tf.matmul(layer_2, weights['h3']), biases['b3'])\n",
    "\n",
    "    out_layer = tf.matmul(layer_3, weights['out']) + biases['out']\n",
    "    return out_layer"
   ]
  },
  {
   "cell_type": "code",
   "execution_count": 42,
   "metadata": {},
   "outputs": [
    {
     "name": "stdout",
     "output_type": "stream",
     "text": [
      "Iter 10, Minibatch Loss= 29639.0742, Training Accuracy= 0.000\n",
      "Iter 20, Minibatch Loss= 21083.1855, Training Accuracy= 0.031\n",
      "Iter 30, Minibatch Loss= 17386.5898, Training Accuracy= 0.031\n",
      "Iter 40, Minibatch Loss= 14249.5898, Training Accuracy= 0.047\n",
      "Iter 50, Minibatch Loss= 11171.3330, Training Accuracy= 0.094\n",
      "Iter 60, Minibatch Loss= 7847.0166, Training Accuracy= 0.141\n",
      "Iter 70, Minibatch Loss= 7733.9141, Training Accuracy= 0.203\n",
      "Iter 80, Minibatch Loss= 6141.0928, Training Accuracy= 0.234\n",
      "Iter 90, Minibatch Loss= 5779.8979, Training Accuracy= 0.203\n",
      "Iter 100, Minibatch Loss= 2815.5181, Training Accuracy= 0.328\n",
      "Iter 110, Minibatch Loss= 3917.0513, Training Accuracy= 0.250\n",
      "Iter 120, Minibatch Loss= 3258.0276, Training Accuracy= 0.344\n",
      "Iter 130, Minibatch Loss= 2549.5947, Training Accuracy= 0.406\n",
      "Iter 140, Minibatch Loss= 2085.4180, Training Accuracy= 0.500\n",
      "Iter 150, Minibatch Loss= 2348.5562, Training Accuracy= 0.359\n",
      "Iter 160, Minibatch Loss= 1242.4329, Training Accuracy= 0.516\n",
      "Iter 170, Minibatch Loss= 1564.2910, Training Accuracy= 0.484\n",
      "Iter 180, Minibatch Loss= 1649.3259, Training Accuracy= 0.500\n",
      "Iter 190, Minibatch Loss= 1337.8999, Training Accuracy= 0.562\n",
      "Iter 200, Minibatch Loss= 678.3973, Training Accuracy= 0.656\n",
      "Iter 210, Minibatch Loss= 704.8346, Training Accuracy= 0.703\n",
      "Iter 220, Minibatch Loss= 677.9460, Training Accuracy= 0.688\n",
      "Iter 230, Minibatch Loss= 608.4165, Training Accuracy= 0.688\n",
      "Iter 240, Minibatch Loss= 626.2987, Training Accuracy= 0.734\n",
      "Iter 250, Minibatch Loss= 465.0214, Training Accuracy= 0.781\n",
      "Iter 260, Minibatch Loss= 544.3225, Training Accuracy= 0.750\n",
      "Iter 270, Minibatch Loss= 424.7364, Training Accuracy= 0.797\n",
      "Iter 280, Minibatch Loss= 304.8871, Training Accuracy= 0.781\n",
      "Iter 290, Minibatch Loss= 600.6454, Training Accuracy= 0.719\n",
      "Iter 300, Minibatch Loss= 440.2037, Training Accuracy= 0.766\n",
      "Iter 310, Minibatch Loss= 347.1505, Training Accuracy= 0.875\n",
      "Iter 320, Minibatch Loss= 295.4896, Training Accuracy= 0.859\n",
      "Iter 330, Minibatch Loss= 434.7851, Training Accuracy= 0.781\n",
      "Iter 340, Minibatch Loss= 230.3371, Training Accuracy= 0.859\n",
      "Iter 350, Minibatch Loss= 421.8997, Training Accuracy= 0.812\n",
      "Iter 360, Minibatch Loss= 254.3650, Training Accuracy= 0.859\n",
      "Iter 370, Minibatch Loss= 45.9310, Training Accuracy= 0.938\n",
      "Iter 380, Minibatch Loss= 135.8026, Training Accuracy= 0.938\n",
      "Iter 390, Minibatch Loss= 59.1408, Training Accuracy= 0.906\n",
      "Iter 400, Minibatch Loss= 397.4235, Training Accuracy= 0.812\n",
      "Iter 410, Minibatch Loss= 70.6397, Training Accuracy= 0.891\n",
      "Iter 420, Minibatch Loss= 301.6906, Training Accuracy= 0.844\n",
      "Iter 430, Minibatch Loss= 299.1878, Training Accuracy= 0.875\n",
      "Iter 440, Minibatch Loss= 236.8204, Training Accuracy= 0.906\n",
      "Iter 450, Minibatch Loss= 203.6948, Training Accuracy= 0.859\n",
      "Iter 460, Minibatch Loss= 94.1243, Training Accuracy= 0.922\n",
      "Iter 470, Minibatch Loss= 231.7328, Training Accuracy= 0.828\n",
      "Iter 480, Minibatch Loss= 192.2014, Training Accuracy= 0.891\n",
      "Iter 490, Minibatch Loss= 90.2482, Training Accuracy= 0.906\n",
      "Iter 500, Minibatch Loss= 211.1328, Training Accuracy= 0.875\n",
      "Iter 510, Minibatch Loss= 47.2045, Training Accuracy= 0.953\n",
      "Iter 520, Minibatch Loss= 185.4444, Training Accuracy= 0.859\n",
      "Iter 530, Minibatch Loss= 237.0014, Training Accuracy= 0.891\n",
      "Iter 540, Minibatch Loss= 94.6341, Training Accuracy= 0.953\n",
      "Iter 550, Minibatch Loss= 225.8142, Training Accuracy= 0.891\n",
      "Iter 560, Minibatch Loss= 277.0602, Training Accuracy= 0.906\n",
      "Iter 570, Minibatch Loss= 0.0000, Training Accuracy= 1.000\n",
      "Iter 580, Minibatch Loss= 93.1246, Training Accuracy= 0.922\n",
      "Iter 590, Minibatch Loss= 56.0919, Training Accuracy= 0.953\n",
      "Iter 600, Minibatch Loss= 60.6854, Training Accuracy= 0.953\n",
      "Iter 610, Minibatch Loss= 36.3828, Training Accuracy= 0.938\n",
      "Iter 620, Minibatch Loss= 136.3662, Training Accuracy= 0.922\n",
      "Iter 630, Minibatch Loss= 81.0273, Training Accuracy= 0.938\n",
      "Iter 640, Minibatch Loss= 3.9712, Training Accuracy= 0.969\n",
      "Iter 650, Minibatch Loss= 37.4724, Training Accuracy= 0.969\n",
      "Iter 660, Minibatch Loss= 124.5935, Training Accuracy= 0.938\n",
      "Iter 670, Minibatch Loss= 97.6285, Training Accuracy= 0.922\n",
      "Iter 680, Minibatch Loss= 142.9516, Training Accuracy= 0.922\n",
      "Iter 690, Minibatch Loss= 120.6031, Training Accuracy= 0.922\n",
      "Iter 700, Minibatch Loss= 0.0000, Training Accuracy= 1.000\n",
      "Iter 710, Minibatch Loss= 70.5837, Training Accuracy= 0.922\n",
      "Iter 720, Minibatch Loss= 46.9371, Training Accuracy= 0.984\n",
      "Iter 730, Minibatch Loss= 8.3618, Training Accuracy= 0.984\n",
      "Iter 740, Minibatch Loss= 55.3566, Training Accuracy= 0.953\n",
      "Iter 750, Minibatch Loss= 252.8491, Training Accuracy= 0.938\n",
      "Iter 760, Minibatch Loss= 130.0483, Training Accuracy= 0.922\n",
      "Iter 770, Minibatch Loss= 24.4403, Training Accuracy= 0.969\n",
      "Iter 780, Minibatch Loss= 180.4112, Training Accuracy= 0.906\n",
      "Iter 790, Minibatch Loss= 44.0399, Training Accuracy= 0.969\n",
      "Iter 800, Minibatch Loss= 62.9334, Training Accuracy= 0.891\n",
      "Iter 810, Minibatch Loss= 84.3613, Training Accuracy= 0.938\n",
      "Iter 820, Minibatch Loss= 27.2771, Training Accuracy= 0.984\n",
      "Iter 830, Minibatch Loss= 101.3068, Training Accuracy= 0.953\n",
      "Iter 840, Minibatch Loss= 36.2051, Training Accuracy= 0.953\n",
      "Iter 850, Minibatch Loss= 61.7937, Training Accuracy= 0.953\n",
      "Iter 860, Minibatch Loss= 94.5342, Training Accuracy= 0.938\n",
      "Iter 870, Minibatch Loss= 24.8964, Training Accuracy= 0.969\n",
      "Iter 880, Minibatch Loss= 27.8205, Training Accuracy= 0.984\n",
      "Iter 890, Minibatch Loss= 40.4945, Training Accuracy= 0.953\n",
      "Iter 900, Minibatch Loss= 47.3349, Training Accuracy= 0.969\n",
      "Iter 910, Minibatch Loss= 166.4072, Training Accuracy= 0.891\n",
      "Iter 920, Minibatch Loss= 22.2877, Training Accuracy= 0.938\n",
      "Iter 930, Minibatch Loss= 84.6487, Training Accuracy= 0.938\n",
      "Iter 940, Minibatch Loss= 88.5586, Training Accuracy= 0.906\n",
      "Iter 950, Minibatch Loss= 90.7797, Training Accuracy= 0.969\n",
      "Iter 960, Minibatch Loss= 34.8978, Training Accuracy= 0.984\n",
      "Iter 970, Minibatch Loss= 71.7917, Training Accuracy= 0.953\n",
      "Iter 980, Minibatch Loss= 3.6389, Training Accuracy= 0.969\n",
      "Iter 990, Minibatch Loss= 46.2065, Training Accuracy= 0.984\n",
      "Iter 1000, Minibatch Loss= 0.0000, Training Accuracy= 1.000\n",
      "Training Finished\n",
      "Testing Accuracy Neural: 0.9375\n",
      "Testing Accuracy MLE: 1.0\n"
     ]
    }
   ],
   "source": [
    "# Construct model\n",
    "logits = neural_net(X)\n",
    "prediction = tf.nn.softmax(logits)\n",
    "losses, accuracies = [], []\n",
    "\n",
    "# Define loss and optimizer\n",
    "loss_op = tf.reduce_mean(tf.nn.softmax_cross_entropy_with_logits(\n",
    "    logits=logits, labels=Y))\n",
    "optimizer = tf.train.AdamOptimizer(learning_rate=learning_rate)\n",
    "train_op = optimizer.minimize(loss_op)\n",
    "\n",
    "# Evaluate model\n",
    "correct_pred = tf.equal(tf.argmax(prediction, 1), tf.argmax(Y, 1))\n",
    "accuracy = tf.reduce_mean(tf.cast(correct_pred, tf.float32))\n",
    "\n",
    "# Initialize the variables (i.e. assign their default value)\n",
    "init = tf.global_variables_initializer()\n",
    "\n",
    "# Start training\n",
    "with tf.Session() as sess:\n",
    "\n",
    "    # Run the initializer\n",
    "    sess.run(init)\n",
    "\n",
    "    for step in range(1, num_iter + 1):\n",
    "        batch_x, batch_y, batch_ind = batch_noisy_subsampled(N, SNRdB, m, batch_size, indices)\n",
    "        # Run optimization op (backprop)\n",
    "        sess.run(train_op, feed_dict={X: batch_x, Y: batch_y})\n",
    "        if step % 10 == 0:\n",
    "            # Calculate batch loss and accuracy\n",
    "            loss, acc = sess.run([loss_op, accuracy], feed_dict={X: batch_x,\n",
    "                                                                 Y: batch_y})\n",
    "            accuracies.append(acc)\n",
    "            losses.append(loss)\n",
    "            print(\"Iter \" + str(step) + \", Minibatch Loss= \" + \\\n",
    "                  \"{:.4f}\".format(loss) + \", Training Accuracy= \" + \\\n",
    "                  \"{:.3f}\".format(acc))\n",
    "\n",
    "    print(\"Training Finished\")\n",
    "\n",
    "    print(\"Testing Accuracy Neural:\", \\\n",
    "        sess.run(accuracy, feed_dict={X: test_signals,\n",
    "                                      Y: test_freqs}))\n",
    "    \n",
    "    print(\"Testing Accuracy MLE:\", test_noisy_subsampled_mle(N, test_signals, test_freqs, test_indices)) "
   ]
  },
  {
   "cell_type": "code",
   "execution_count": 36,
   "metadata": {},
   "outputs": [
    {
     "data": {
      "image/png": "[encoded data removed]",
      "text/plain": [
       "<matplotlib.figure.Figure at 0x1ebb540cac8>"
      ]
     },
     "metadata": {},
     "output_type": "display_data"
    },
    {
     "data": {
      "image/png": "[encoded data removed]",
      "text/plain": [
       "<matplotlib.figure.Figure at 0x1ebb5683f98>"
      ]
     },
     "metadata": {},
     "output_type": "display_data"
    },
    {
     "data": {
      "text/plain": [
       "'\\n500 iter, N=256,3 hidden layer each w 256 neuron, batchsize=32\\nfully sampled: test accuracy ~98%\\nm=240: test accuracy ~28%'"
      ]
     },
     "execution_count": 36,
     "metadata": {},
     "output_type": "execute_result"
    }
   ],
   "source": [
    "plt.plot(accuracies)\n",
    "plt.show()\n",
    "plt.plot(losses)\n",
    "plt.show()\n",
    "\n",
    "'''\n",
    "500 iter, N=256,3 hidden layer each w 256 neuron, batchsize=32\n",
    "fully sampled: test accuracy ~98%\n",
    "m=240: test accuracy ~28%'''\n"
   ]
  },
  {
   "cell_type": "code",
   "execution_count": null,
   "metadata": {
    "collapsed": true
   },
   "outputs": [],
   "source": []
  }
 ],
 "metadata": {
  "kernelspec": {
   "display_name": "Python 3",
   "language": "python",
   "name": "python3"
  },
  "language_info": {
   "codemirror_mode": {
    "name": "ipython",
    "version": 3
   },
   "file_extension": ".py",
   "mimetype": "text/x-python",
   "name": "python",
   "nbconvert_exporter": "python",
   "pygments_lexer": "ipython3",
   "version": "3.5.2"
  }
 },
 "nbformat": 4,
 "nbformat_minor": 2
}
