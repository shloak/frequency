{
 "cells": [
  {
   "cell_type": "code",
   "execution_count": 65,
   "metadata": {},
   "outputs": [],
   "source": [
    "import numpy as np\n",
    "import matplotlib.pyplot as plt\n",
    "import tensorflow as tf\n",
    "import math\n",
    "from functools import reduce\n",
    "import time\n",
    "from multiprocessing import Pool\n",
    "import scipy.linalg\n",
    "\n",
    "import sys\n",
    "sys.path.insert(0, '../')\n",
    "\n",
    "from utils import *"
   ]
  },
  {
   "cell_type": "code",
   "execution_count": 66,
   "metadata": {},
   "outputs": [
    {
     "name": "stdout",
     "output_type": "stream",
     "text": [
      "0 [(1-0j), (1+0j), (1-0j)]\n",
      "1 [(0.7071+0.7071j), (0.7071+0.7071j), (0.7071+0.7071j)]\n",
      "2 [(-0+1j), 1j, (-0+1j)]\n",
      "3 [(-0.7071+0.7071j), (-0.7071+0.7071j), (-0.7071+0.7071j)]\n",
      "4 [(-1-0j), (-1+0j), (-1-0j)]\n",
      "5 [(-0.7071-0.7071j), (-0.7071-0.7071j), (-0.7071-0.7071j)]\n",
      "6 [(-0-1j), -1j, (-0-1j)]\n",
      "7 [(0.7071-0.7071j), (0.7071-0.7071j), (0.7071-0.7071j)]\n"
     ]
    }
   ],
   "source": [
    "def make_noise(sigma2, m):\n",
    "    noise_scaling = np.sqrt(sigma2/2)\n",
    "    # noise is complex valued\n",
    "    noise  = noise_scaling*np.random.randn(m) + 1j*noise_scaling*np.random.randn(m)\n",
    "    return noise\n",
    "def get_sigma2_from_snrdb(SNR_db):\n",
    "    return 10**(-SNR_db/10)\n",
    "\n",
    "def make_signal(signal, k, N, p, ms):\n",
    "    return [round(signal[(2**p + m) % N] * np.conj(signal[m % N]), 4) for m in ms]\n",
    "    #return [round(np.exp(1j*(2*np.pi*k / N)*(2**p + m))*np.conj(np.exp(1j*(2*np.pi*k / N)*(m))), 4) for m in ms]\n",
    "\n",
    "N = 8\n",
    "clean_signal = [[np.exp(1j*(2*np.pi*k*m / N))  for k in range(N)] for m in range(N)]\n",
    "sigma2 = get_sigma2_from_snrdb(100)\n",
    "noises = [make_noise(sigma2, N) for i in range(N)]\n",
    "noisy_signal = [[a + b for a, b in zip(cle, noi)] for cle, noi in zip(clean_signal, noises)]\n",
    "ms = [i for i in range(3)]\n",
    "for i in range(N):\n",
    "    print(i, make_signal(noisy_signal[i], i, N, 0, ms))\n"
   ]
  },
  {
   "cell_type": "code",
   "execution_count": 75,
   "metadata": {},
   "outputs": [
    {
     "ename": "MemoryError",
     "evalue": "",
     "output_type": "error",
     "traceback": [
      "\u001b[1;31m---------------------------------------------------------------------------\u001b[0m",
      "\u001b[1;31mMemoryError\u001b[0m                               Traceback (most recent call last)",
      "\u001b[1;32m<ipython-input-75-a5784063a754>\u001b[0m in \u001b[0;36m<module>\u001b[1;34m()\u001b[0m\n\u001b[0;32m     23\u001b[0m \u001b[0mSNRdB\u001b[0m \u001b[1;33m=\u001b[0m \u001b[1;36m2\u001b[0m\u001b[1;33m\u001b[0m\u001b[0m\n\u001b[0;32m     24\u001b[0m \u001b[0msigma2\u001b[0m \u001b[1;33m=\u001b[0m \u001b[0mget_sigma2_from_snrdb\u001b[0m\u001b[1;33m(\u001b[0m\u001b[0mSNRdB\u001b[0m\u001b[1;33m)\u001b[0m\u001b[1;33m\u001b[0m\u001b[0m\n\u001b[1;32m---> 25\u001b[1;33m \u001b[0mnoises\u001b[0m \u001b[1;33m=\u001b[0m \u001b[1;33m[\u001b[0m\u001b[0mmake_noise\u001b[0m\u001b[1;33m(\u001b[0m\u001b[0msigma2\u001b[0m\u001b[1;33m,\u001b[0m \u001b[0mN\u001b[0m\u001b[1;33m)\u001b[0m \u001b[1;32mfor\u001b[0m \u001b[0mi\u001b[0m \u001b[1;32min\u001b[0m \u001b[0mrange\u001b[0m\u001b[1;33m(\u001b[0m\u001b[0mN\u001b[0m\u001b[1;33m)\u001b[0m\u001b[1;33m]\u001b[0m\u001b[1;33m\u001b[0m\u001b[0m\n\u001b[0m\u001b[0;32m     26\u001b[0m \u001b[0mnoisy_signal\u001b[0m \u001b[1;33m=\u001b[0m \u001b[1;33m[\u001b[0m\u001b[1;33m[\u001b[0m\u001b[0ma\u001b[0m \u001b[1;33m+\u001b[0m \u001b[0mb\u001b[0m \u001b[1;32mfor\u001b[0m \u001b[0ma\u001b[0m\u001b[1;33m,\u001b[0m \u001b[0mb\u001b[0m \u001b[1;32min\u001b[0m \u001b[0mzip\u001b[0m\u001b[1;33m(\u001b[0m\u001b[0mcle\u001b[0m\u001b[1;33m,\u001b[0m \u001b[0mnoi\u001b[0m\u001b[1;33m)\u001b[0m\u001b[1;33m]\u001b[0m \u001b[1;32mfor\u001b[0m \u001b[0mcle\u001b[0m\u001b[1;33m,\u001b[0m \u001b[0mnoi\u001b[0m \u001b[1;32min\u001b[0m \u001b[0mzip\u001b[0m\u001b[1;33m(\u001b[0m\u001b[0mclean_signal\u001b[0m\u001b[1;33m,\u001b[0m \u001b[0mnoises\u001b[0m\u001b[1;33m)\u001b[0m\u001b[1;33m]\u001b[0m\u001b[1;33m\u001b[0m\u001b[0m\n\u001b[0;32m     27\u001b[0m \u001b[1;31m#snrs = [3, 2, 1, 0, -1, -2]\u001b[0m\u001b[1;33m\u001b[0m\u001b[1;33m\u001b[0m\u001b[0m\n",
      "\u001b[1;32m<ipython-input-75-a5784063a754>\u001b[0m in \u001b[0;36m<listcomp>\u001b[1;34m(.0)\u001b[0m\n\u001b[0;32m     23\u001b[0m \u001b[0mSNRdB\u001b[0m \u001b[1;33m=\u001b[0m \u001b[1;36m2\u001b[0m\u001b[1;33m\u001b[0m\u001b[0m\n\u001b[0;32m     24\u001b[0m \u001b[0msigma2\u001b[0m \u001b[1;33m=\u001b[0m \u001b[0mget_sigma2_from_snrdb\u001b[0m\u001b[1;33m(\u001b[0m\u001b[0mSNRdB\u001b[0m\u001b[1;33m)\u001b[0m\u001b[1;33m\u001b[0m\u001b[0m\n\u001b[1;32m---> 25\u001b[1;33m \u001b[0mnoises\u001b[0m \u001b[1;33m=\u001b[0m \u001b[1;33m[\u001b[0m\u001b[0mmake_noise\u001b[0m\u001b[1;33m(\u001b[0m\u001b[0msigma2\u001b[0m\u001b[1;33m,\u001b[0m \u001b[0mN\u001b[0m\u001b[1;33m)\u001b[0m \u001b[1;32mfor\u001b[0m \u001b[0mi\u001b[0m \u001b[1;32min\u001b[0m \u001b[0mrange\u001b[0m\u001b[1;33m(\u001b[0m\u001b[0mN\u001b[0m\u001b[1;33m)\u001b[0m\u001b[1;33m]\u001b[0m\u001b[1;33m\u001b[0m\u001b[0m\n\u001b[0m\u001b[0;32m     26\u001b[0m \u001b[0mnoisy_signal\u001b[0m \u001b[1;33m=\u001b[0m \u001b[1;33m[\u001b[0m\u001b[1;33m[\u001b[0m\u001b[0ma\u001b[0m \u001b[1;33m+\u001b[0m \u001b[0mb\u001b[0m \u001b[1;32mfor\u001b[0m \u001b[0ma\u001b[0m\u001b[1;33m,\u001b[0m \u001b[0mb\u001b[0m \u001b[1;32min\u001b[0m \u001b[0mzip\u001b[0m\u001b[1;33m(\u001b[0m\u001b[0mcle\u001b[0m\u001b[1;33m,\u001b[0m \u001b[0mnoi\u001b[0m\u001b[1;33m)\u001b[0m\u001b[1;33m]\u001b[0m \u001b[1;32mfor\u001b[0m \u001b[0mcle\u001b[0m\u001b[1;33m,\u001b[0m \u001b[0mnoi\u001b[0m \u001b[1;32min\u001b[0m \u001b[0mzip\u001b[0m\u001b[1;33m(\u001b[0m\u001b[0mclean_signal\u001b[0m\u001b[1;33m,\u001b[0m \u001b[0mnoises\u001b[0m\u001b[1;33m)\u001b[0m\u001b[1;33m]\u001b[0m\u001b[1;33m\u001b[0m\u001b[0m\n\u001b[0;32m     27\u001b[0m \u001b[1;31m#snrs = [3, 2, 1, 0, -1, -2]\u001b[0m\u001b[1;33m\u001b[0m\u001b[1;33m\u001b[0m\u001b[0m\n",
      "\u001b[1;32m<ipython-input-66-6fc9ff2ddf34>\u001b[0m in \u001b[0;36mmake_noise\u001b[1;34m(sigma2, m)\u001b[0m\n\u001b[0;32m      2\u001b[0m     \u001b[0mnoise_scaling\u001b[0m \u001b[1;33m=\u001b[0m \u001b[0mnp\u001b[0m\u001b[1;33m.\u001b[0m\u001b[0msqrt\u001b[0m\u001b[1;33m(\u001b[0m\u001b[0msigma2\u001b[0m\u001b[1;33m/\u001b[0m\u001b[1;36m2\u001b[0m\u001b[1;33m)\u001b[0m\u001b[1;33m\u001b[0m\u001b[0m\n\u001b[0;32m      3\u001b[0m     \u001b[1;31m# noise is complex valued\u001b[0m\u001b[1;33m\u001b[0m\u001b[1;33m\u001b[0m\u001b[0m\n\u001b[1;32m----> 4\u001b[1;33m     \u001b[0mnoise\u001b[0m  \u001b[1;33m=\u001b[0m \u001b[0mnoise_scaling\u001b[0m\u001b[1;33m*\u001b[0m\u001b[0mnp\u001b[0m\u001b[1;33m.\u001b[0m\u001b[0mrandom\u001b[0m\u001b[1;33m.\u001b[0m\u001b[0mrandn\u001b[0m\u001b[1;33m(\u001b[0m\u001b[0mm\u001b[0m\u001b[1;33m)\u001b[0m \u001b[1;33m+\u001b[0m \u001b[1;36m1j\u001b[0m\u001b[1;33m*\u001b[0m\u001b[0mnoise_scaling\u001b[0m\u001b[1;33m*\u001b[0m\u001b[0mnp\u001b[0m\u001b[1;33m.\u001b[0m\u001b[0mrandom\u001b[0m\u001b[1;33m.\u001b[0m\u001b[0mrandn\u001b[0m\u001b[1;33m(\u001b[0m\u001b[0mm\u001b[0m\u001b[1;33m)\u001b[0m\u001b[1;33m\u001b[0m\u001b[0m\n\u001b[0m\u001b[0;32m      5\u001b[0m     \u001b[1;32mreturn\u001b[0m \u001b[0mnoise\u001b[0m\u001b[1;33m\u001b[0m\u001b[0m\n\u001b[0;32m      6\u001b[0m \u001b[1;32mdef\u001b[0m \u001b[0mget_sigma2_from_snrdb\u001b[0m\u001b[1;33m(\u001b[0m\u001b[0mSNR_db\u001b[0m\u001b[1;33m)\u001b[0m\u001b[1;33m:\u001b[0m\u001b[1;33m\u001b[0m\u001b[0m\n",
      "\u001b[1;31mMemoryError\u001b[0m: "
     ]
    }
   ],
   "source": [
    "def nthRootsOfUnity(n): \n",
    "    return np.exp(2j * np.pi / n * np.arange(n))\n",
    "def detect_freq(noisy_signal, ms, base, exp):\n",
    "    N = base ** exp\n",
    "    all_possible = [True for i in range(N)]\n",
    "    for i in range(1, exp+1):\n",
    "        roots = nthRootsOfUnity(2 ** i)\n",
    "        avg_sig = np.mean(make_signal(noisy_signal, None, N, exp - i, ms))\n",
    "        dists = [np.abs(r - avg_sig) for r in roots]\n",
    "        min_dist, min_ind = np.inf, 0\n",
    "        for j in range(len(roots)):\n",
    "            if all_possible[j] and dists[j] < min_dist:\n",
    "                min_dist = dists[j]\n",
    "                min_ind = j\n",
    "        for j in range(len(all_possible)):\n",
    "            if all_possible[j] and (j % len(roots) != min_ind):\n",
    "                all_possible[j] = False\n",
    "    return [i for i in range(len(all_possible)) if all_possible[i]][0]\n",
    "\n",
    "base, exp = 2, 10\n",
    "N = base ** exp\n",
    "clean_signal = [[np.exp(1j*(2*np.pi*k*m / N))  for k in range(N)] for m in range(N)]\n",
    "SNRdB = 2\n",
    "sigma2 = get_sigma2_from_snrdb(SNRdB)\n",
    "noises = [make_noise(sigma2, N) for i in range(N)]\n",
    "noisy_signal = [[a + b for a, b in zip(cle, noi)] for cle, noi in zip(clean_signal, noises)]\n",
    "#snrs = [3, 2, 1, 0, -1, -2]\n",
    "m_vals = [1, 3, 5, 7, 9, 11, 13, 15, 17, 19]\n",
    "accs = []\n",
    "for m_val in m_vals:\n",
    "    print(m_val)\n",
    "    ms = [i for i in range(m_val)]\n",
    "    count = 0\n",
    "    for i in range(N):\n",
    "        guess = detect_freq(noisy_signal[i], ms, base, exp)\n",
    "        if guess == i:\n",
    "            count += 1\n",
    "        else:\n",
    "            print(m_val, i, guess)\n",
    "    print(count / (N))\n",
    "    accs.append(count / N)\n",
    "fig = plt.figure(figsize=(15,4))\n",
    "ax = fig.add_subplot(111)\n",
    "ax.set_xlabel('Samples per iteration') \n",
    "ax.set_ylabel('Test set classification accuracy')\n",
    "ax.plot(m_vals, accs, '-go')\n",
    "ax.set_title('New log^2 method at {}^{} signal length, at {} SNR dB'.format(base, exp, SNRdB))\n",
    "plt.show()"
   ]
  },
  {
   "cell_type": "code",
   "execution_count": 61,
   "metadata": {},
   "outputs": [
    {
     "name": "stdout",
     "output_type": "stream",
     "text": [
      "2 0.08349609375\n",
      "2 0.999267578125\n",
      "4 0.30126953125\n",
      "4 1.0\n",
      "6 0.646240234375\n",
      "6 1.0\n",
      "8 0.868408203125\n",
      "8 1.0\n",
      "10 0.966552734375\n",
      "10 1.0\n",
      "12 0.99853515625\n",
      "12 1.0\n"
     ]
    }
   ],
   "source": [
    "def test_kays(signals, freqs, N, m, T=5):\n",
    "    count1, count2 = 0, 0\n",
    "    total_time = 0\n",
    "    for sig, freq in zip(signals, freqs):\n",
    "        res, time = kays_method(sig)\n",
    "        total_time += time\n",
    "        res = int(round(res * N / (2 * np.pi))) % N\n",
    "        if freq == res:\n",
    "            count1 += 1\n",
    "        if freq == int(test_min_thresh(sig, N, m, res, T)):\n",
    "            count2 += 1\n",
    "    return count2 / len(signals), total_time\n",
    "snrs = [2, 4, 6, 8, 10, 12]\n",
    "base, exp = 2, 12\n",
    "N = base ** exp\n",
    "m = exp * exp\n",
    "clean_signal = [[np.exp(1j*(2*np.pi*k*m / N))  for k in range(N)] for m in range(N)]\n",
    "freqs = [i for i in range(N)]\n",
    "kay_accs, new_accs = [], []\n",
    "for SNRdB in snrs:\n",
    "    sigma2 = get_sigma2_from_snrdb(SNRdB)\n",
    "    noises = [make_noise(sigma2, N) for i in range(N)]\n",
    "    noisy_signals = [[a + b for a, b in zip(cle, noi)] for cle, noi in zip(clean_signal, noises)]\n",
    "    noisy_signals = np.array(noisy_signals)\n",
    "    acc, time = test_kays(noisy_signals[:, :m], freqs, N, m, T=6)\n",
    "    kay_accs.append(acc)\n",
    "    print(SNRdB, acc)\n",
    "    count = 0\n",
    "    for i in range(N):\n",
    "        guess = detect_freq(noisy_signals[i], [i for i in range(exp)], base, exp)\n",
    "        if guess == i:\n",
    "            count += 1\n",
    "    print(SNRdB, count / N)\n",
    "    new_accs.append(count / N)"
   ]
  },
  {
   "cell_type": "code",
   "execution_count": 64,
   "metadata": {},
   "outputs": [
    {
     "data": {
      "image/png": "[encoded data removed]",
      "text/plain": [
       "<matplotlib.figure.Figure at 0x265b1b31a58>"
      ]
     },
     "metadata": {},
     "output_type": "display_data"
    }
   ],
   "source": [
    "fig = plt.figure(figsize=(15,4))\n",
    "ax = fig.add_subplot(111)\n",
    "ax.set_xlabel('SNR (dB)') \n",
    "ax.set_ylabel('Test set classification accuracy')\n",
    "ax.plot(snrs, kay_accs, '-go', label='Kay')\n",
    "ax.plot(snrs, new_accs, '-ro', label='New')\n",
    "ax.set_title('Comparison of Kay Method to New log^2 method at {}^{} signal length, taking in total log^2 samples for both'.format(base, exp))\n",
    "plt.legend(loc='best',\n",
    "           ncol=3)\n",
    "plt.show()"
   ]
  },
  {
   "cell_type": "code",
   "execution_count": null,
   "metadata": {},
   "outputs": [],
   "source": []
  }
 ],
 "metadata": {
  "kernelspec": {
   "display_name": "Python 3",
   "language": "python",
   "name": "python3"
  },
  "language_info": {
   "codemirror_mode": {
    "name": "ipython",
    "version": 3
   },
   "file_extension": ".py",
   "mimetype": "text/x-python",
   "name": "python",
   "nbconvert_exporter": "python",
   "pygments_lexer": "ipython3",
   "version": "3.6.2"
  }
 },
 "nbformat": 4,
 "nbformat_minor": 2
}
