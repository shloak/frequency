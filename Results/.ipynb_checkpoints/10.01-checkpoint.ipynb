{
 "cells": [
  {
   "cell_type": "code",
   "execution_count": 1,
   "metadata": {},
   "outputs": [],
   "source": [
    "import numpy as np\n",
    "import matplotlib.pyplot as plt\n",
    "import tensorflow as tf\n",
    "import math\n"
   ]
  },
  {
   "cell_type": "code",
   "execution_count": null,
   "metadata": {},
   "outputs": [],
   "source": [
    "# mle frequency accuracy at a given snr\n",
    "# first m samples, random m samples, m subsampled samples set\n",
    "# N=27000 possible freq, m=300 samples\n",
    "\n",
    "plt.plot(np.load('./data/singleton/snrs.npy'), np.load('./data/singleton/nn_accs.npy'), '--bo', label='nn acc singleton')\n",
    "plt.plot(np.load('./data/freq_detect/snrs.npy'), np.load('./data/freq_detect/mle_acc.npy'), '--ro', label='mle acc freq detect')\n",
    "plt.xlabel('snr db', fontsize=18)\n",
    "plt.ylabel('testing accuracy', fontsize=18)\n",
    "plt.legend(bbox_to_anchor=(0., 1.02, 1., .102), loc=3,\n",
    "           ncol=2, mode=\"expand\", borderaxespad=0.)\n",
    "plt.show()"
   ]
  }
 ],
 "metadata": {
  "kernelspec": {
   "display_name": "Python 3",
   "language": "python",
   "name": "python3"
  },
  "language_info": {
   "codemirror_mode": {
    "name": "ipython",
    "version": 3
   },
   "file_extension": ".py",
   "mimetype": "text/x-python",
   "name": "python",
   "nbconvert_exporter": "python",
   "pygments_lexer": "ipython3",
   "version": "3.6.2"
  }
 },
 "nbformat": 4,
 "nbformat_minor": 2
}
