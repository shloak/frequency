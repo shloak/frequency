{
 "cells": [
  {
   "cell_type": "markdown",
   "metadata": {},
   "source": [
    "Observations\n",
    "- Networks seem to be able to be optimized independently ((2 ** 5)(3 ** 2) vs (2 ** 5)(3 ** 10) has same parameters for 2 network to get same accuracy (bc more bins)\n",
    "- 3 network has slightly lower accuracy than 2 network with same params - harder problem - but accuracy can be matched by increasing # samples taken in (eg 20 vs 25)\n",
    "- Achieves results similar to 2 model in terms of accuracy, within constant factor of samples needed (eg 3^7 * 2^11)\n",
    "- Runtime may have additional log factor because we are checking n*m values as opposed to n+m - (log n)^3 runtime?"
   ]
  },
  {
   "cell_type": "markdown",
   "metadata": {},
   "source": [
    "Questions\n",
    "- What kinds of experiments to prioritize (1 model vs 2 models)?\n",
    "- New way of doing bit checking?\n",
    "    - Right now we effectively correct for 2 bit flips\n",
    "- Is there a better comparison than MLE & Kay?\n"
   ]
  },
  {
   "cell_type": "markdown",
   "metadata": {},
   "source": [
    "See where kay's is used - look at citations\n",
    "Do universal 1 bit checking on 2 networks rather than pairwise\n",
    "\n",
    "Deep image prior paper"
   ]
  },
  {
   "cell_type": "code",
   "execution_count": null,
   "metadata": {},
   "outputs": [],
   "source": []
  }
 ],
 "metadata": {
  "kernelspec": {
   "display_name": "Python 3",
   "language": "python",
   "name": "python3"
  },
  "language_info": {
   "codemirror_mode": {
    "name": "ipython",
    "version": 3
   },
   "file_extension": ".py",
   "mimetype": "text/x-python",
   "name": "python",
   "nbconvert_exporter": "python",
   "pygments_lexer": "ipython3",
   "version": "3.6.2"
  }
 },
 "nbformat": 4,
 "nbformat_minor": 2
}
